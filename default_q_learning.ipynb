{
 "cells": [
  {
   "cell_type": "code",
   "execution_count": 1,
   "metadata": {
    "colab": {
     "base_uri": "https://localhost:8080/"
    },
    "id": "OJQUvyAlEC42",
    "outputId": "67b7c681-2197-4981-b83e-71332cfc6f58",
    "scrolled": true
   },
   "outputs": [
    {
     "name": "stdout",
     "output_type": "stream",
     "text": [
      "Requirement already satisfied: gymnasium in c:\\users\\maxjo\\appdata\\local\\programs\\python\\python39\\lib\\site-packages (0.29.1)\n",
      "Requirement already satisfied: numpy>=1.21.0 in c:\\users\\maxjo\\appdata\\local\\programs\\python\\python39\\lib\\site-packages (from gymnasium) (1.26.4)\n",
      "Requirement already satisfied: cloudpickle>=1.2.0 in c:\\users\\maxjo\\appdata\\local\\programs\\python\\python39\\lib\\site-packages (from gymnasium) (3.0.0)\n",
      "Requirement already satisfied: typing-extensions>=4.3.0 in c:\\users\\maxjo\\appdata\\local\\programs\\python\\python39\\lib\\site-packages (from gymnasium) (4.12.2)\n",
      "Requirement already satisfied: farama-notifications>=0.0.1 in c:\\users\\maxjo\\appdata\\local\\programs\\python\\python39\\lib\\site-packages (from gymnasium) (0.0.4)\n",
      "Requirement already satisfied: importlib-metadata>=4.8.0 in c:\\users\\maxjo\\appdata\\local\\programs\\python\\python39\\lib\\site-packages (from gymnasium) (7.1.0)\n",
      "Requirement already satisfied: zipp>=0.5 in c:\\users\\maxjo\\appdata\\local\\programs\\python\\python39\\lib\\site-packages (from importlib-metadata>=4.8.0->gymnasium) (3.18.2)\n"
     ]
    },
    {
     "name": "stderr",
     "output_type": "stream",
     "text": [
      "\n",
      "[notice] A new release of pip is available: 24.1.1 -> 24.2\n",
      "[notice] To update, run: python.exe -m pip install --upgrade pip\n"
     ]
    }
   ],
   "source": [
    "!pip install gymnasium"
   ]
  },
  {
   "cell_type": "code",
   "execution_count": 2,
   "metadata": {
    "colab": {
     "base_uri": "https://localhost:8080/"
    },
    "id": "lGN-Jy0lD2g9",
    "outputId": "7ccade61-a26b-4e53-877e-b120895e8225"
   },
   "outputs": [
    {
     "name": "stdout",
     "output_type": "stream",
     "text": [
      "WARNING:tensorflow:From c:\\users\\maxjo\\appdata\\local\\programs\\python\\python39\\lib\\site-packages\\keras\\src\\losses.py:2976: The name tf.losses.sparse_softmax_cross_entropy is deprecated. Please use tf.compat.v1.losses.sparse_softmax_cross_entropy instead.\n",
      "\n",
      "Num GPUs Available:  0\n",
      "Num CPUs Available:  1\n"
     ]
    }
   ],
   "source": [
    "import random, time\n",
    "from collections import deque, namedtuple\n",
    "\n",
    "import gymnasium as gym\n",
    "import numpy as np\n",
    "import tensorflow as tf\n",
    "print(\"Num GPUs Available: \", len(tf.config.list_physical_devices('GPU')))\n",
    "print(\"Num CPUs Available: \", len(tf.config.list_physical_devices('CPU')))\n",
    "\n",
    "from tqdm.auto import tqdm\n",
    "\n",
    "n_episodes = 1000  # play 1000 games\n",
    "eps = 1.0  # exploration rate, probability of choosing random action\n",
    "eps_decay = 0.9975  # eps gets multiplied by this number each epoch...\n",
    "min_eps = 0.1  # ...until this minimum eps is reached\n",
    "gamma = 0.95  # discount\n",
    "max_memory_size = 10000  # size of the replay memory\n",
    "batch_size = 16  # batch size of the neural network training\n",
    "min_length = 160  # minimum length of the replay memory for training, before it reached this length, no gradient updates happen\n",
    "memory_parts = [\n",
    "    \"state\",\n",
    "    \"action\",\n",
    "    \"next_state\",\n",
    "    \"reward\",\n",
    "    \"done\",\n",
    "]  # nice names for the part of replay memory, otherweise the names are 0-5"
   ]
  },
  {
   "cell_type": "code",
   "execution_count": 3,
   "metadata": {
    "colab": {
     "base_uri": "https://localhost:8080/"
    },
    "id": "xJjoVUSFZ3Yp",
    "outputId": "b0577ab8-ebd9-4459-8e80-246cbb3d3acf"
   },
   "outputs": [],
   "source": [
    "#from google.colab import drive\n",
    "#drive.mount('/content/drive')\n",
    "\n",
    "drive = '/content/drive'"
   ]
  },
  {
   "cell_type": "markdown",
   "metadata": {
    "id": "3RZqb4JV7Ag2"
   },
   "source": [
    "# Learning A Model"
   ]
  },
  {
   "cell_type": "code",
   "execution_count": 4,
   "metadata": {
    "id": "hERWxJ3jEMMH"
   },
   "outputs": [],
   "source": [
    "Memory = namedtuple(\"Memory\", memory_parts)  # a single entry of the memory replay\n",
    "\n",
    "\n",
    "class ReplayMemory:\n",
    "    def __init__(self, max_length=None):\n",
    "        self.max_length = max_length\n",
    "        self.memory = deque(maxlen=max_length)\n",
    "\n",
    "    def store(self, data):\n",
    "        self.memory.append(data)\n",
    "\n",
    "    def _sample(self, k):\n",
    "        return random.sample(self.memory, k)\n",
    "\n",
    "    def structured_sample(self, k):\n",
    "        batch = self._sample(k)\n",
    "        result = {}\n",
    "        for i, part in enumerate(memory_parts):\n",
    "            result[part] = np.array([row[i] for row in batch])\n",
    "\n",
    "        return result\n",
    "\n",
    "    def __len__(self):\n",
    "        return len(self.memory)"
   ]
  },
  {
   "cell_type": "code",
   "execution_count": 5,
   "metadata": {
    "id": "AWYz3_bUETMT"
   },
   "outputs": [
    {
     "name": "stdout",
     "output_type": "stream",
     "text": [
      "WARNING:tensorflow:From c:\\users\\maxjo\\appdata\\local\\programs\\python\\python39\\lib\\site-packages\\keras\\src\\backend.py:1398: The name tf.executing_eagerly_outside_functions is deprecated. Please use tf.compat.v1.executing_eagerly_outside_functions instead.\n",
      "\n"
     ]
    }
   ],
   "source": [
    "model = tf.keras.Sequential(\n",
    "    [\n",
    "        tf.keras.layers.Input(shape=(4,)),  # Define input shape with Input layer\n",
    "        tf.keras.layers.Dense(128, activation=\"relu\"),\n",
    "        tf.keras.layers.Dense(64, activation=\"relu\"),\n",
    "        tf.keras.layers.Dense(16, activation=\"relu\"),\n",
    "        tf.keras.layers.Dense(2, activation=\"linear\"),  # 2 actions: go left or go right\n",
    "    ]\n",
    ")\n",
    "model.compile(\n",
    "    loss=tf.keras.losses.MeanSquaredError(),\n",
    "    optimizer=tf.keras.optimizers.Adam(learning_rate=0.01),\n",
    ")"
   ]
  },
  {
   "cell_type": "code",
   "execution_count": 6,
   "metadata": {
    "colab": {
     "base_uri": "https://localhost:8080/",
     "height": 66,
     "referenced_widgets": [
      "3a067fc34c0946e7a985334c0a944e21",
      "4d6612b0aa0d477481d1db33d6dcc8ce",
      "3cf0bef9fc374852a667faf4147a37ba",
      "984d3c4cc7ed4e9b84a5a944cb07ace1",
      "47a2df39f5e1449bb0305040c6f5f5f3",
      "b66b1dc5f07f49768032a3d40b831d12",
      "d3ceb98f06e3495c95b5d614f7838bcf",
      "2c143b45389744468b88b85f25dbc5ed",
      "d09f29e5a5d64a7fbf965d6330fdda5e",
      "a45f4eac93954ebfa5cd356cb36d5f9e",
      "8e6205f3c3834a63b83c5d6222d09c70"
     ]
    },
    "id": "A3tUkXVAEzOI",
    "outputId": "7d4d6579-9f1c-494e-fe95-ed6de4c67899"
   },
   "outputs": [
    {
     "data": {
      "application/vnd.jupyter.widget-view+json": {
       "model_id": "df16e17a8a914779a3eccbab7ded966a",
       "version_major": 2,
       "version_minor": 0
      },
      "text/plain": [
       "  0%|          | 0/1000 [00:00<?, ?it/s]"
      ]
     },
     "metadata": {},
     "output_type": "display_data"
    },
    {
     "name": "stdout",
     "output_type": "stream",
     "text": [
      "my_QmodelB_0iterations.keras\n",
      "WARNING:tensorflow:From c:\\users\\maxjo\\appdata\\local\\programs\\python\\python39\\lib\\site-packages\\keras\\src\\utils\\tf_utils.py:492: The name tf.ragged.RaggedTensorValue is deprecated. Please use tf.compat.v1.ragged.RaggedTensorValue instead.\n",
      "\n",
      "my_QmodelB_100iterations.keras\n",
      "my_QmodelB_200iterations.keras\n",
      "my_QmodelB_300iterations.keras\n",
      "my_QmodelB_400iterations.keras\n",
      "my_QmodelB_500iterations.keras\n",
      "my_QmodelB_600iterations.keras\n",
      "my_QmodelB_700iterations.keras\n",
      "my_QmodelB_800iterations.keras\n",
      "my_QmodelB_900iterations.keras\n",
      "my_QmodelB_999iterations.keras\n"
     ]
    }
   ],
   "source": [
    "env = gym.make(\"CartPole-v1\")\n",
    "replay_memory = ReplayMemory(max_length=max_memory_size)\n",
    "\n",
    "for episode in tqdm(range(n_episodes)):  # tqdm makes a nice proress bar\n",
    "    state, _ = env.reset()\n",
    "    done = False\n",
    "\n",
    "    while not done:\n",
    "        if random.random() < eps:\n",
    "            action = env.action_space.sample()  # random action\n",
    "        else:\n",
    "            action = model.predict(state[np.newaxis, :], verbose=False).argmax()  # best action according to the model\n",
    "\n",
    "        next_state, reward, done, _, _ = env.step(action)\n",
    "        memory = Memory(state, action, next_state, reward, done)\n",
    "        replay_memory.store(memory)\n",
    "\n",
    "        if len(replay_memory) >= min_length:\n",
    "            batch = replay_memory.structured_sample(batch_size)  # get samples from the replay memory\n",
    "\n",
    "            target_batch = batch[\"reward\"] + gamma * model.predict(batch[\"next_state\"], verbose=False).max(axis=1) * (\n",
    "                1 - batch[\"done\"]\n",
    "            )  # R(s, a) + γ·maxₐ N(s') if not a terminal state, otherwise R(s, a)\n",
    "            targets = model.predict(batch[\"state\"], verbose=False)\n",
    "            targets[\n",
    "                range(batch_size), batch[\"action\"]\n",
    "            ] = target_batch  # set the target for the action that was done and leave the outputs of other 3 actions as they are\n",
    "\n",
    "            model.fit(batch[\"state\"], targets, verbose=False, batch_size=batch_size)  # train for one epoch\n",
    "\n",
    "        state = next_state\n",
    "    if episode % 100 == 0:\n",
    "      save_path = 'my_QmodelB_{}iterations.keras'.format(episode)\n",
    "      print (save_path)\n",
    "      model.save(save_path)\n",
    "    eps = max(min_eps, eps * eps_decay)\n",
    "save_path = 'my_QmodelB_{}iterations.keras'.format(episode)\n",
    "print (save_path)\n",
    "model.save(save_path)"
   ]
  },
  {
   "cell_type": "code",
   "execution_count": 7,
   "metadata": {
    "colab": {
     "base_uri": "https://localhost:8080/"
    },
    "id": "3fqH3YTuBFo2",
    "outputId": "b54a0793-2d5d-40b5-f197-a056e3c3a98d"
   },
   "outputs": [
    {
     "name": "stdout",
     "output_type": "stream",
     "text": [
      "0 0.9975\n",
      "10 0.972841184720621\n",
      "20 0.9487919505650338\n",
      "30 0.9253372283118559\n",
      "40 0.9024623212601521\n",
      "50 0.8801528960204993\n",
      "60 0.8583949735337022\n",
      "70 0.8371749203115317\n",
      "80 0.8164794398939969\n",
      "90 0.7962955645177996\n",
      "100 0.7766106469907487\n",
      "110 0.7574123527670455\n",
      "120 0.7386886522184717\n",
      "130 0.7204278130966384\n",
      "140 0.7026183931815739\n",
      "150 0.6852492331120414\n",
      "160 0.668309449393098\n",
      "170 0.6517884275765086\n",
      "180 0.6356758156097455\n",
      "190 0.6199615173494054\n",
      "200 0.6046356862349768\n",
      "210 0.5896887191189979\n",
      "220 0.5751112502497359\n",
      "230 0.5608941454026172\n",
      "240 0.5470284961567343\n",
      "250 0.5335056143128392\n",
      "260 0.5203170264493284\n",
      "270 0.5074544686128074\n",
      "280 0.49490988113990647\n",
      "290 0.48267540360710603\n",
      "300 0.4707433699054044\n",
      "310 0.45910630343674297\n",
      "320 0.4477569124291788\n",
      "330 0.43668808536786924\n",
      "340 0.42589288653900503\n",
      "350 0.4153645516839004\n",
      "360 0.40509648376051655\n",
      "370 0.39508224880976317\n",
      "380 0.3853155719239871\n",
      "390 0.375790333315123\n",
      "400 0.3665005644800414\n",
      "410 0.3574404444606915\n",
      "420 0.34860429619669614\n",
      "430 0.33998658296811235\n",
      "440 0.33158190492612943\n",
      "450 0.3233849957095299\n",
      "460 0.3153907191447939\n",
      "470 0.30759406602777933\n",
      "480 0.2999901509849602\n",
      "490 0.2925742094122572\n",
      "500 0.28534159448954327\n",
      "510 0.2782877742689506\n",
      "520 0.2714083288351585\n",
      "530 0.26469894753587914\n",
      "540 0.2581554262808082\n",
      "550 0.25177366490734665\n",
      "560 0.24554966461144434\n",
      "570 0.23947952544195356\n",
      "580 0.23355944385692448\n",
      "590 0.22778571034031053\n",
      "600 0.22215470707758989\n",
      "610 0.21666290568884716\n",
      "620 0.21130686501789497\n",
      "630 0.20608322897604944\n",
      "640 0.20098872443920898\n",
      "650 0.19602015919691876\n",
      "660 0.19117441995213547\n",
      "670 0.18644847037043907\n",
      "680 0.1818393491774692\n",
      "690 0.17734416830339428\n",
      "700 0.17296011107325038\n",
      "710 0.16868443044201611\n",
      "720 0.16451444727331746\n",
      "730 0.160447548660684\n",
      "740 0.15648118629030508\n",
      "750 0.15261287484425923\n",
      "760 0.14884019044321703\n",
      "770 0.14516076912764123\n",
      "780 0.14157230537653234\n",
      "790 0.13807255066279225\n",
      "800 0.13465931204429948\n",
      "810 0.13133045078981465\n",
      "820 0.12808388103885365\n",
      "830 0.12491756849469021\n",
      "840 0.1218295291496679\n",
      "850 0.1188178280420234\n",
      "860 0.11588057804344168\n",
      "870 0.11301593867658365\n",
      "880 0.11022211496184528\n",
      "890 0.1074973562926256\n",
      "900 0.10483995533839859\n",
      "910 0.10224824697490191\n",
      "920 0.09972060724077215\n",
      "930 0.09725545231997243\n",
      "940 0.09485123754937526\n",
      "950 0.09250645645087847\n",
      "960 0.09021963978744776\n",
      "970 0.08798935464249458\n",
      "980 0.08581420352201231\n",
      "990 0.0836928234789082\n",
      "0.08182845639998225\n"
     ]
    }
   ],
   "source": [
    "eps_decay = 0.9975\n",
    "min_eps = 0.01\n",
    "eps = 1.0\n",
    "for i in range(1000):\n",
    "  eps = max(min_eps, eps * eps_decay)\n",
    "  if (i % 10==0):\n",
    "    print (i, eps)\n",
    "\n",
    "print(eps)"
   ]
  },
  {
   "cell_type": "markdown",
   "metadata": {
    "id": "o3iVpRrR5AK9"
   },
   "source": [
    "# Test Learned Models"
   ]
  },
  {
   "cell_type": "code",
   "execution_count": 9,
   "metadata": {
    "colab": {
     "base_uri": "https://localhost:8080/"
    },
    "id": "9rrki-w45Wsu",
    "outputId": "88be8bdf-6d35-4d53-80bd-7722cfd12d32"
   },
   "outputs": [
    {
     "name": "stdout",
     "output_type": "stream",
     "text": [
      "Collecting gdown\n",
      "  Downloading gdown-5.2.0-py3-none-any.whl.metadata (5.8 kB)\n",
      "Requirement already satisfied: beautifulsoup4 in c:\\users\\maxjo\\appdata\\local\\programs\\python\\python39\\lib\\site-packages (from gdown) (4.12.3)\n",
      "Collecting filelock (from gdown)\n",
      "  Downloading filelock-3.16.1-py3-none-any.whl.metadata (2.9 kB)\n",
      "Requirement already satisfied: requests[socks] in c:\\users\\maxjo\\appdata\\local\\programs\\python\\python39\\lib\\site-packages (from gdown) (2.32.3)\n",
      "Requirement already satisfied: tqdm in c:\\users\\maxjo\\appdata\\local\\programs\\python\\python39\\lib\\site-packages (from gdown) (4.66.4)\n",
      "Requirement already satisfied: soupsieve>1.2 in c:\\users\\maxjo\\appdata\\local\\programs\\python\\python39\\lib\\site-packages (from beautifulsoup4->gdown) (2.6)\n",
      "Requirement already satisfied: charset-normalizer<4,>=2 in c:\\users\\maxjo\\appdata\\local\\programs\\python\\python39\\lib\\site-packages (from requests[socks]->gdown) (3.3.2)\n",
      "Requirement already satisfied: idna<4,>=2.5 in c:\\users\\maxjo\\appdata\\local\\programs\\python\\python39\\lib\\site-packages (from requests[socks]->gdown) (3.7)\n",
      "Requirement already satisfied: urllib3<3,>=1.21.1 in c:\\users\\maxjo\\appdata\\local\\programs\\python\\python39\\lib\\site-packages (from requests[socks]->gdown) (2.2.2)\n",
      "Requirement already satisfied: certifi>=2017.4.17 in c:\\users\\maxjo\\appdata\\local\\programs\\python\\python39\\lib\\site-packages (from requests[socks]->gdown) (2024.7.4)\n",
      "Requirement already satisfied: PySocks!=1.5.7,>=1.5.6 in c:\\users\\maxjo\\appdata\\local\\programs\\python\\python39\\lib\\site-packages (from requests[socks]->gdown) (1.7.1)\n",
      "Requirement already satisfied: colorama in c:\\users\\maxjo\\appdata\\local\\programs\\python\\python39\\lib\\site-packages (from tqdm->gdown) (0.4.6)\n",
      "Downloading gdown-5.2.0-py3-none-any.whl (18 kB)\n",
      "Downloading filelock-3.16.1-py3-none-any.whl (16 kB)\n",
      "Installing collected packages: filelock, gdown\n",
      "Successfully installed filelock-3.16.1 gdown-5.2.0\n"
     ]
    },
    {
     "name": "stderr",
     "output_type": "stream",
     "text": [
      "\n",
      "[notice] A new release of pip is available: 24.1.1 -> 24.2\n",
      "[notice] To update, run: python.exe -m pip install --upgrade pip\n"
     ]
    },
    {
     "name": "stdout",
     "output_type": "stream",
     "text": [
      "my_QmodelB_999iterations.keras\n"
     ]
    },
    {
     "name": "stderr",
     "output_type": "stream",
     "text": [
      "c:\\users\\maxjo\\appdata\\local\\programs\\python\\python39\\lib\\site-packages\\gdown\\download.py:33: MarkupResemblesLocatorWarning: The input looks more like a filename than markup. You may want to open this file and pass the filehandle into Beautiful Soup.\n",
      "  soup = bs4.BeautifulSoup(line, features=\"html.parser\")\n",
      "Failed to retrieve file url:\n",
      "\n",
      "\tCannot retrieve the public link of the file. You may need to change\n",
      "\tthe permission to 'Anyone with the link', or have had many accesses.\n",
      "\tCheck FAQ in https://github.com/wkentaro/gdown?tab=readme-ov-file#faq.\n",
      "\n",
      "You may still be able to access the file from the browser:\n",
      "\n",
      "\thttps://drive.google.com/uc?id=1-iNHaTgKMTU7Fdoc-7IdRZCaGOFTQmIY\n",
      "\n",
      "but Gdown can't. Please check connections and permissions.\n"
     ]
    }
   ],
   "source": [
    "## Choose Model\n",
    "version = 1\n",
    "models = [(100, '1-3b0WuYzzscYMvJEvmdGK_GTsVvd2T_9'), (999, '1-iNHaTgKMTU7Fdoc-7IdRZCaGOFTQmIY')]\n",
    "\n",
    "!pip install gdown\n",
    "!gdown {models[version][1]}\n",
    "save_path=f'my_QmodelB_{models[version][0]}iterations.keras'\n",
    "print(save_path)"
   ]
  },
  {
   "cell_type": "code",
   "execution_count": 11,
   "metadata": {
    "id": "uovqNleA7SB4"
   },
   "outputs": [],
   "source": [
    "import matplotlib.pyplot as plt\n",
    "import gymnasium as gym\n",
    "import tensorflow as tf\n",
    "\n",
    "from tensorflow.keras.models import load_model\n",
    "\n",
    "model = load_model(save_path, compile=False)\n",
    "model.compile(\n",
    "    loss=tf.keras.losses.MeanSquaredError(),\n",
    "    optimizer=tf.keras.optimizers.Adam(learning_rate=0.01),\n",
    ")"
   ]
  },
  {
   "cell_type": "code",
   "execution_count": 12,
   "metadata": {
    "colab": {
     "base_uri": "https://localhost:8080/",
     "height": 792
    },
    "id": "_vnZPrO0W4c3",
    "outputId": "8d2c2c3d-75d9-4299-88fd-17a00287712d"
   },
   "outputs": [
    {
     "data": {
      "image/png": "[encoded data removed]",
      "text/plain": [
       "<Figure size 640x480 with 1 Axes>"
      ]
     },
     "metadata": {},
     "output_type": "display_data"
    },
    {
     "name": "stdout",
     "output_type": "stream",
     "text": [
      "action=0, total_reward=1.0\n"
     ]
    },
    {
     "data": {
      "image/png": "[encoded data removed]",
      "text/plain": [
       "<Figure size 640x480 with 1 Axes>"
      ]
     },
     "metadata": {},
     "output_type": "display_data"
    }
   ],
   "source": [
    "env = gym.make(\"CartPole-v1\", render_mode=\"rgb_array\")\n",
    "state, _ = env.reset()\n",
    "done = False\n",
    "total_reward = 0\n",
    "state_image=env.render()\n",
    "plt.imshow(state_image)\n",
    "plt.show()\n",
    "\n",
    "state_image=env.render()\n",
    "action = model.predict(state[np.newaxis, :], verbose=False).argmax(axis=1)[0]\n",
    "state, reward, done, _, _ = env.step(action)\n",
    "total_reward += reward\n",
    "print (f\"{action=}, {total_reward=}\")\n",
    "state_image=env.render()\n",
    "plt.imshow(state_image)\n",
    "plt.show()"
   ]
  },
  {
   "cell_type": "code",
   "execution_count": 13,
   "metadata": {
    "colab": {
     "base_uri": "https://localhost:8080/"
    },
    "id": "dBZ3Dkjf67DV",
    "outputId": "51d3f241-0de1-4afd-ffcb-9d4d1c81b7c1"
   },
   "outputs": [
    {
     "name": "stdout",
     "output_type": "stream",
     "text": [
      "total_reward=98.0\n"
     ]
    }
   ],
   "source": [
    "env = gym.make(\"CartPole-v1\", render_mode=\"human\")\n",
    "\n",
    "state, _ = env.reset()\n",
    "done = False\n",
    "total_reward = 0\n",
    "\n",
    "while not done and total_reward < 500:  # force end the game after 500 time steps because the model is too good!\n",
    "    env.render()\n",
    "    action = model.predict(state[np.newaxis, :], verbose=False).argmax(axis=1)[0]\n",
    "    state, reward, done, _, _ = env.step(action)\n",
    "    total_reward += reward\n",
    "\n",
    "env.close()\n",
    "print (f\"{total_reward=}\")"
   ]
  },
  {
   "cell_type": "code",
   "execution_count": 14,
   "metadata": {
    "id": "-zerAhDxXOC6"
   },
   "outputs": [],
   "source": [
    "env.close()"
   ]
  },
  {
   "cell_type": "markdown",
   "metadata": {},
   "source": [
    "This was the default. It worked a little bit, but it seemed more concerned about keeping it upright than keeping it in the center of the screen."
   ]
  }
 ],
 "metadata": {
  "accelerator": "TPU",
  "colab": {
   "gpuType": "V28",
   "machine_shape": "hm",
   "provenance": []
  },
  "kernelspec": {
   "display_name": "Python 3 (ipykernel)",
   "language": "python",
   "name": "python3"
  },
  "language_info": {
   "codemirror_mode": {
    "name": "ipython",
    "version": 3
   },
   "file_extension": ".py",
   "mimetype": "text/x-python",
   "name": "python",
   "nbconvert_exporter": "python",
   "pygments_lexer": "ipython3",
   "version": "3.9.1"
  },
  "widgets": {
   "application/vnd.jupyter.widget-state+json": {
    "2c143b45389744468b88b85f25dbc5ed": {
     "model_module": "@jupyter-widgets/base",
     "model_module_version": "1.2.0",
     "model_name": "LayoutModel",
     "state": {
      "_model_module": "@jupyter-widgets/base",
      "_model_module_version": "1.2.0",
      "_model_name": "LayoutModel",
      "_view_count": null,
      "_view_module": "@jupyter-widgets/base",
      "_view_module_version": "1.2.0",
      "_view_name": "LayoutView",
      "align_content": null,
      "align_items": null,
      "align_self": null,
      "border": null,
      "bottom": null,
      "display": null,
      "flex": null,
      "flex_flow": null,
      "grid_area": null,
      "grid_auto_columns": null,
      "grid_auto_flow": null,
      "grid_auto_rows": null,
      "grid_column": null,
      "grid_gap": null,
      "grid_row": null,
      "grid_template_areas": null,
      "grid_template_columns": null,
      "grid_template_rows": null,
      "height": null,
      "justify_content": null,
      "justify_items": null,
      "left": null,
      "margin": null,
      "max_height": null,
      "max_width": null,
      "min_height": null,
      "min_width": null,
      "object_fit": null,
      "object_position": null,
      "order": null,
      "overflow": null,
      "overflow_x": null,
      "overflow_y": null,
      "padding": null,
      "right": null,
      "top": null,
      "visibility": null,
      "width": null
     }
    },
    "3a067fc34c0946e7a985334c0a944e21": {
     "model_module": "@jupyter-widgets/controls",
     "model_module_version": "1.5.0",
     "model_name": "HBoxModel",
     "state": {
      "_dom_classes": [],
      "_model_module": "@jupyter-widgets/controls",
      "_model_module_version": "1.5.0",
      "_model_name": "HBoxModel",
      "_view_count": null,
      "_view_module": "@jupyter-widgets/controls",
      "_view_module_version": "1.5.0",
      "_view_name": "HBoxView",
      "box_style": "",
      "children": [
       "IPY_MODEL_4d6612b0aa0d477481d1db33d6dcc8ce",
       "IPY_MODEL_3cf0bef9fc374852a667faf4147a37ba",
       "IPY_MODEL_984d3c4cc7ed4e9b84a5a944cb07ace1"
      ],
      "layout": "IPY_MODEL_47a2df39f5e1449bb0305040c6f5f5f3"
     }
    },
    "3cf0bef9fc374852a667faf4147a37ba": {
     "model_module": "@jupyter-widgets/controls",
     "model_module_version": "1.5.0",
     "model_name": "FloatProgressModel",
     "state": {
      "_dom_classes": [],
      "_model_module": "@jupyter-widgets/controls",
      "_model_module_version": "1.5.0",
      "_model_name": "FloatProgressModel",
      "_view_count": null,
      "_view_module": "@jupyter-widgets/controls",
      "_view_module_version": "1.5.0",
      "_view_name": "ProgressView",
      "bar_style": "",
      "description": "",
      "description_tooltip": null,
      "layout": "IPY_MODEL_2c143b45389744468b88b85f25dbc5ed",
      "max": 1000,
      "min": 0,
      "orientation": "horizontal",
      "style": "IPY_MODEL_d09f29e5a5d64a7fbf965d6330fdda5e",
      "value": 77
     }
    },
    "47a2df39f5e1449bb0305040c6f5f5f3": {
     "model_module": "@jupyter-widgets/base",
     "model_module_version": "1.2.0",
     "model_name": "LayoutModel",
     "state": {
      "_model_module": "@jupyter-widgets/base",
      "_model_module_version": "1.2.0",
      "_model_name": "LayoutModel",
      "_view_count": null,
      "_view_module": "@jupyter-widgets/base",
      "_view_module_version": "1.2.0",
      "_view_name": "LayoutView",
      "align_content": null,
      "align_items": null,
      "align_self": null,
      "border": null,
      "bottom": null,
      "display": null,
      "flex": null,
      "flex_flow": null,
      "grid_area": null,
      "grid_auto_columns": null,
      "grid_auto_flow": null,
      "grid_auto_rows": null,
      "grid_column": null,
      "grid_gap": null,
      "grid_row": null,
      "grid_template_areas": null,
      "grid_template_columns": null,
      "grid_template_rows": null,
      "height": null,
      "justify_content": null,
      "justify_items": null,
      "left": null,
      "margin": null,
      "max_height": null,
      "max_width": null,
      "min_height": null,
      "min_width": null,
      "object_fit": null,
      "object_position": null,
      "order": null,
      "overflow": null,
      "overflow_x": null,
      "overflow_y": null,
      "padding": null,
      "right": null,
      "top": null,
      "visibility": null,
      "width": null
     }
    },
    "4d6612b0aa0d477481d1db33d6dcc8ce": {
     "model_module": "@jupyter-widgets/controls",
     "model_module_version": "1.5.0",
     "model_name": "HTMLModel",
     "state": {
      "_dom_classes": [],
      "_model_module": "@jupyter-widgets/controls",
      "_model_module_version": "1.5.0",
      "_model_name": "HTMLModel",
      "_view_count": null,
      "_view_module": "@jupyter-widgets/controls",
      "_view_module_version": "1.5.0",
      "_view_name": "HTMLView",
      "description": "",
      "description_tooltip": null,
      "layout": "IPY_MODEL_b66b1dc5f07f49768032a3d40b831d12",
      "placeholder": "​",
      "style": "IPY_MODEL_d3ceb98f06e3495c95b5d614f7838bcf",
      "value": "  8%"
     }
    },
    "8e6205f3c3834a63b83c5d6222d09c70": {
     "model_module": "@jupyter-widgets/controls",
     "model_module_version": "1.5.0",
     "model_name": "DescriptionStyleModel",
     "state": {
      "_model_module": "@jupyter-widgets/controls",
      "_model_module_version": "1.5.0",
      "_model_name": "DescriptionStyleModel",
      "_view_count": null,
      "_view_module": "@jupyter-widgets/base",
      "_view_module_version": "1.2.0",
      "_view_name": "StyleView",
      "description_width": ""
     }
    },
    "984d3c4cc7ed4e9b84a5a944cb07ace1": {
     "model_module": "@jupyter-widgets/controls",
     "model_module_version": "1.5.0",
     "model_name": "HTMLModel",
     "state": {
      "_dom_classes": [],
      "_model_module": "@jupyter-widgets/controls",
      "_model_module_version": "1.5.0",
      "_model_name": "HTMLModel",
      "_view_count": null,
      "_view_module": "@jupyter-widgets/controls",
      "_view_module_version": "1.5.0",
      "_view_name": "HTMLView",
      "description": "",
      "description_tooltip": null,
      "layout": "IPY_MODEL_a45f4eac93954ebfa5cd356cb36d5f9e",
      "placeholder": "​",
      "style": "IPY_MODEL_8e6205f3c3834a63b83c5d6222d09c70",
      "value": " 77/1000 [07:35&lt;1:43:24,  6.72s/it]"
     }
    },
    "a45f4eac93954ebfa5cd356cb36d5f9e": {
     "model_module": "@jupyter-widgets/base",
     "model_module_version": "1.2.0",
     "model_name": "LayoutModel",
     "state": {
      "_model_module": "@jupyter-widgets/base",
      "_model_module_version": "1.2.0",
      "_model_name": "LayoutModel",
      "_view_count": null,
      "_view_module": "@jupyter-widgets/base",
      "_view_module_version": "1.2.0",
      "_view_name": "LayoutView",
      "align_content": null,
      "align_items": null,
      "align_self": null,
      "border": null,
      "bottom": null,
      "display": null,
      "flex": null,
      "flex_flow": null,
      "grid_area": null,
      "grid_auto_columns": null,
      "grid_auto_flow": null,
      "grid_auto_rows": null,
      "grid_column": null,
      "grid_gap": null,
      "grid_row": null,
      "grid_template_areas": null,
      "grid_template_columns": null,
      "grid_template_rows": null,
      "height": null,
      "justify_content": null,
      "justify_items": null,
      "left": null,
      "margin": null,
      "max_height": null,
      "max_width": null,
      "min_height": null,
      "min_width": null,
      "object_fit": null,
      "object_position": null,
      "order": null,
      "overflow": null,
      "overflow_x": null,
      "overflow_y": null,
      "padding": null,
      "right": null,
      "top": null,
      "visibility": null,
      "width": null
     }
    },
    "b66b1dc5f07f49768032a3d40b831d12": {
     "model_module": "@jupyter-widgets/base",
     "model_module_version": "1.2.0",
     "model_name": "LayoutModel",
     "state": {
      "_model_module": "@jupyter-widgets/base",
      "_model_module_version": "1.2.0",
      "_model_name": "LayoutModel",
      "_view_count": null,
      "_view_module": "@jupyter-widgets/base",
      "_view_module_version": "1.2.0",
      "_view_name": "LayoutView",
      "align_content": null,
      "align_items": null,
      "align_self": null,
      "border": null,
      "bottom": null,
      "display": null,
      "flex": null,
      "flex_flow": null,
      "grid_area": null,
      "grid_auto_columns": null,
      "grid_auto_flow": null,
      "grid_auto_rows": null,
      "grid_column": null,
      "grid_gap": null,
      "grid_row": null,
      "grid_template_areas": null,
      "grid_template_columns": null,
      "grid_template_rows": null,
      "height": null,
      "justify_content": null,
      "justify_items": null,
      "left": null,
      "margin": null,
      "max_height": null,
      "max_width": null,
      "min_height": null,
      "min_width": null,
      "object_fit": null,
      "object_position": null,
      "order": null,
      "overflow": null,
      "overflow_x": null,
      "overflow_y": null,
      "padding": null,
      "right": null,
      "top": null,
      "visibility": null,
      "width": null
     }
    },
    "d09f29e5a5d64a7fbf965d6330fdda5e": {
     "model_module": "@jupyter-widgets/controls",
     "model_module_version": "1.5.0",
     "model_name": "ProgressStyleModel",
     "state": {
      "_model_module": "@jupyter-widgets/controls",
      "_model_module_version": "1.5.0",
      "_model_name": "ProgressStyleModel",
      "_view_count": null,
      "_view_module": "@jupyter-widgets/base",
      "_view_module_version": "1.2.0",
      "_view_name": "StyleView",
      "bar_color": null,
      "description_width": ""
     }
    },
    "d3ceb98f06e3495c95b5d614f7838bcf": {
     "model_module": "@jupyter-widgets/controls",
     "model_module_version": "1.5.0",
     "model_name": "DescriptionStyleModel",
     "state": {
      "_model_module": "@jupyter-widgets/controls",
      "_model_module_version": "1.5.0",
      "_model_name": "DescriptionStyleModel",
      "_view_count": null,
      "_view_module": "@jupyter-widgets/base",
      "_view_module_version": "1.2.0",
      "_view_name": "StyleView",
      "description_width": ""
     }
    }
   }
  }
 },
 "nbformat": 4,
 "nbformat_minor": 4
}
