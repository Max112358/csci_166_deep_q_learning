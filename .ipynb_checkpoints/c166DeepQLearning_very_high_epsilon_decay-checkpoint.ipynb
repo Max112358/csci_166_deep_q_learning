{
 "cells": [
  {
   "cell_type": "code",
   "execution_count": 1,
   "metadata": {
    "colab": {
     "base_uri": "https://localhost:8080/"
    },
    "id": "OJQUvyAlEC42",
    "outputId": "67b7c681-2197-4981-b83e-71332cfc6f58",
    "scrolled": true
   },
   "outputs": [
    {
     "name": "stdout",
     "output_type": "stream",
     "text": [
      "Requirement already satisfied: gymnasium in c:\\users\\maxjo\\appdata\\local\\programs\\python\\python39\\lib\\site-packages (0.29.1)\n",
      "Requirement already satisfied: numpy>=1.21.0 in c:\\users\\maxjo\\appdata\\local\\programs\\python\\python39\\lib\\site-packages (from gymnasium) (1.26.4)\n",
      "Requirement already satisfied: cloudpickle>=1.2.0 in c:\\users\\maxjo\\appdata\\local\\programs\\python\\python39\\lib\\site-packages (from gymnasium) (3.0.0)\n",
      "Requirement already satisfied: typing-extensions>=4.3.0 in c:\\users\\maxjo\\appdata\\local\\programs\\python\\python39\\lib\\site-packages (from gymnasium) (4.12.2)\n",
      "Requirement already satisfied: farama-notifications>=0.0.1 in c:\\users\\maxjo\\appdata\\local\\programs\\python\\python39\\lib\\site-packages (from gymnasium) (0.0.4)\n",
      "Requirement already satisfied: importlib-metadata>=4.8.0 in c:\\users\\maxjo\\appdata\\local\\programs\\python\\python39\\lib\\site-packages (from gymnasium) (7.1.0)\n",
      "Requirement already satisfied: zipp>=0.5 in c:\\users\\maxjo\\appdata\\local\\programs\\python\\python39\\lib\\site-packages (from importlib-metadata>=4.8.0->gymnasium) (3.18.2)\n"
     ]
    },
    {
     "name": "stderr",
     "output_type": "stream",
     "text": [
      "\n",
      "[notice] A new release of pip is available: 24.1.1 -> 24.2\n",
      "[notice] To update, run: python.exe -m pip install --upgrade pip\n"
     ]
    }
   ],
   "source": [
    "!pip install gymnasium"
   ]
  },
  {
   "cell_type": "code",
   "execution_count": 2,
   "metadata": {
    "colab": {
     "base_uri": "https://localhost:8080/"
    },
    "id": "lGN-Jy0lD2g9",
    "outputId": "7ccade61-a26b-4e53-877e-b120895e8225"
   },
   "outputs": [
    {
     "name": "stdout",
     "output_type": "stream",
     "text": [
      "WARNING:tensorflow:From c:\\users\\maxjo\\appdata\\local\\programs\\python\\python39\\lib\\site-packages\\keras\\src\\losses.py:2976: The name tf.losses.sparse_softmax_cross_entropy is deprecated. Please use tf.compat.v1.losses.sparse_softmax_cross_entropy instead.\n",
      "\n",
      "Num GPUs Available:  0\n",
      "Num CPUs Available:  1\n"
     ]
    }
   ],
   "source": [
    "import random, time\n",
    "from collections import deque, namedtuple\n",
    "\n",
    "import gymnasium as gym\n",
    "import numpy as np\n",
    "import tensorflow as tf\n",
    "print(\"Num GPUs Available: \", len(tf.config.list_physical_devices('GPU')))\n",
    "print(\"Num CPUs Available: \", len(tf.config.list_physical_devices('CPU')))\n",
    "\n",
    "from tqdm.auto import tqdm\n",
    "\n",
    "n_episodes = 100  # play 1000 games\n",
    "eps = 1.0  # exploration rate, probability of choosing random action\n",
    "eps_decay = 0.9975  # eps gets multiplied by this number each epoch...\n",
    "min_eps = 0.1  # ...until this minimum eps is reached\n",
    "gamma = 1  # discount. Why is there a gamma? We want this to take as long as possible!!!\n",
    "max_memory_size = 10000  # size of the replay memory\n",
    "batch_size = 160  # batch size of the neural network training\n",
    "min_length = 160  # minimum length of the replay memory for training, before it reached this length, no gradient updates happen\n",
    "memory_parts = [\n",
    "    \"state\",\n",
    "    \"action\",\n",
    "    \"next_state\",\n",
    "    \"reward\",\n",
    "    \"done\",\n",
    "]  # nice names for the part of replay memory, otherweise the names are 0-5"
   ]
  },
  {
   "cell_type": "code",
   "execution_count": 3,
   "metadata": {
    "colab": {
     "base_uri": "https://localhost:8080/"
    },
    "id": "xJjoVUSFZ3Yp",
    "outputId": "b0577ab8-ebd9-4459-8e80-246cbb3d3acf"
   },
   "outputs": [],
   "source": [
    "#from google.colab import drive\n",
    "#drive.mount('/content/drive')\n",
    "\n",
    "drive = '/content/drive'"
   ]
  },
  {
   "cell_type": "markdown",
   "metadata": {
    "id": "3RZqb4JV7Ag2"
   },
   "source": [
    "# Learning A Model"
   ]
  },
  {
   "cell_type": "code",
   "execution_count": 4,
   "metadata": {
    "id": "hERWxJ3jEMMH"
   },
   "outputs": [],
   "source": [
    "Memory = namedtuple(\"Memory\", memory_parts)  # a single entry of the memory replay\n",
    "\n",
    "\n",
    "class ReplayMemory:\n",
    "    def __init__(self, max_length=None):\n",
    "        self.max_length = max_length\n",
    "        self.memory = deque(maxlen=max_length)\n",
    "\n",
    "    def store(self, data):\n",
    "        self.memory.append(data)\n",
    "\n",
    "    def _sample(self, k):\n",
    "        return random.sample(self.memory, k)\n",
    "\n",
    "    def structured_sample(self, k):\n",
    "        batch = self._sample(k)\n",
    "        result = {}\n",
    "        for i, part in enumerate(memory_parts):\n",
    "            result[part] = np.array([row[i] for row in batch])\n",
    "\n",
    "        return result\n",
    "\n",
    "    def __len__(self):\n",
    "        return len(self.memory)"
   ]
  },
  {
   "cell_type": "code",
   "execution_count": 5,
   "metadata": {
    "id": "AWYz3_bUETMT"
   },
   "outputs": [
    {
     "name": "stdout",
     "output_type": "stream",
     "text": [
      "WARNING:tensorflow:From c:\\users\\maxjo\\appdata\\local\\programs\\python\\python39\\lib\\site-packages\\keras\\src\\backend.py:1398: The name tf.executing_eagerly_outside_functions is deprecated. Please use tf.compat.v1.executing_eagerly_outside_functions instead.\n",
      "\n"
     ]
    }
   ],
   "source": [
    "model = tf.keras.Sequential(\n",
    "    [\n",
    "        tf.keras.layers.Input(shape=(4,)),  # Define input shape with Input layer\n",
    "        tf.keras.layers.Dense(128, activation=\"relu\"),\n",
    "        tf.keras.layers.Dense(64, activation=\"relu\"),\n",
    "        tf.keras.layers.Dense(16, activation=\"relu\"),\n",
    "        tf.keras.layers.Dense(2, activation=\"linear\"),  # 2 actions: go left or go right\n",
    "    ]\n",
    ")\n",
    "model.compile(\n",
    "    loss=tf.keras.losses.MeanSquaredError(),\n",
    "    optimizer=tf.keras.optimizers.Adam(learning_rate=0.01),\n",
    ")"
   ]
  },
  {
   "cell_type": "code",
   "execution_count": 6,
   "metadata": {
    "colab": {
     "base_uri": "https://localhost:8080/",
     "height": 66,
     "referenced_widgets": [
      "3a067fc34c0946e7a985334c0a944e21",
      "4d6612b0aa0d477481d1db33d6dcc8ce",
      "3cf0bef9fc374852a667faf4147a37ba",
      "984d3c4cc7ed4e9b84a5a944cb07ace1",
      "47a2df39f5e1449bb0305040c6f5f5f3",
      "b66b1dc5f07f49768032a3d40b831d12",
      "d3ceb98f06e3495c95b5d614f7838bcf",
      "2c143b45389744468b88b85f25dbc5ed",
      "d09f29e5a5d64a7fbf965d6330fdda5e",
      "a45f4eac93954ebfa5cd356cb36d5f9e",
      "8e6205f3c3834a63b83c5d6222d09c70"
     ]
    },
    "id": "A3tUkXVAEzOI",
    "outputId": "7d4d6579-9f1c-494e-fe95-ed6de4c67899"
   },
   "outputs": [
    {
     "data": {
      "application/vnd.jupyter.widget-view+json": {
       "model_id": "df16e17a8a914779a3eccbab7ded966a",
       "version_major": 2,
       "version_minor": 0
      },
      "text/plain": [
       "  0%|          | 0/1000 [00:00<?, ?it/s]"
      ]
     },
     "metadata": {},
     "output_type": "display_data"
    },
    {
     "name": "stdout",
     "output_type": "stream",
     "text": [
      "my_QmodelB_0iterations.keras\n",
      "WARNING:tensorflow:From c:\\users\\maxjo\\appdata\\local\\programs\\python\\python39\\lib\\site-packages\\keras\\src\\utils\\tf_utils.py:492: The name tf.ragged.RaggedTensorValue is deprecated. Please use tf.compat.v1.ragged.RaggedTensorValue instead.\n",
      "\n",
      "my_QmodelB_100iterations.keras\n",
      "my_QmodelB_200iterations.keras\n",
      "my_QmodelB_300iterations.keras\n",
      "my_QmodelB_400iterations.keras\n",
      "my_QmodelB_500iterations.keras\n",
      "my_QmodelB_600iterations.keras\n",
      "my_QmodelB_700iterations.keras\n",
      "my_QmodelB_800iterations.keras\n",
      "my_QmodelB_900iterations.keras\n",
      "my_QmodelB_999iterations.keras\n"
     ]
    }
   ],
   "source": [
    "env = gym.make(\"CartPole-v1\")\n",
    "replay_memory = ReplayMemory(max_length=max_memory_size)\n",
    "\n",
    "for episode in tqdm(range(n_episodes)):  # tqdm makes a nice proress bar\n",
    "    state, _ = env.reset()\n",
    "    done = False\n",
    "\n",
    "    while not done:\n",
    "        if random.random() < eps:\n",
    "            action = env.action_space.sample()  # random action\n",
    "        else:\n",
    "            action = model.predict(state[np.newaxis, :], verbose=False).argmax()  # best action according to the model\n",
    "\n",
    "        next_state, reward, done, _, _ = env.step(action)\n",
    "        memory = Memory(state, action, next_state, reward, done)\n",
    "        replay_memory.store(memory)\n",
    "\n",
    "        if len(replay_memory) >= min_length:\n",
    "            batch = replay_memory.structured_sample(batch_size)  # get samples from the replay memory\n",
    "\n",
    "            target_batch = batch[\"reward\"] + gamma * model.predict(batch[\"next_state\"], verbose=False).max(axis=1) * (\n",
    "                1 - batch[\"done\"]\n",
    "            )  # R(s, a) + γ·maxₐ N(s') if not a terminal state, otherwise R(s, a)\n",
    "            targets = model.predict(batch[\"state\"], verbose=False)\n",
    "            targets[\n",
    "                range(batch_size), batch[\"action\"]\n",
    "            ] = target_batch  # set the target for the action that was done and leave the outputs of other 3 actions as they are\n",
    "\n",
    "            model.fit(batch[\"state\"], targets, verbose=False, batch_size=batch_size)  # train for one epoch\n",
    "\n",
    "        state = next_state\n",
    "    if episode % 100 == 0:\n",
    "      save_path = 'my_QmodelB_{}iterations.keras'.format(episode)\n",
    "      print (save_path)\n",
    "      model.save(save_path)\n",
    "    eps = max(min_eps, eps * eps_decay)\n",
    "save_path = 'my_QmodelB_{}iterations.keras'.format(episode)\n",
    "print (save_path)\n",
    "model.save(save_path)"
   ]
  },
  {
   "cell_type": "code",
   "execution_count": 1,
   "metadata": {
    "colab": {
     "base_uri": "https://localhost:8080/"
    },
    "id": "3fqH3YTuBFo2",
    "outputId": "b54a0793-2d5d-40b5-f197-a056e3c3a98d"
   },
   "outputs": [
    {
     "name": "stdout",
     "output_type": "stream",
     "text": [
      "0 0.997\n",
      "10 0.9674905716180701\n",
      "20 0.9388545698794984\n",
      "30 0.9110661429076764\n",
      "40 0.884100203995605\n",
      "50 0.857932408958235\n",
      "60 0.8325391341551359\n",
      "70 0.8078974551636565\n",
      "80 0.78398512608332\n",
      "90 0.7607805594527743\n",
      "100 0.7382628067611632\n",
      "110 0.7164115395363275\n",
      "120 0.6952070309927615\n",
      "130 0.6746301382227565\n",
      "140 0.6546622849146564\n",
      "150 0.6352854445826206\n",
      "160 0.6164821242927577\n",
      "170 0.598235348870935\n",
      "180 0.5805286455780104\n",
      "190 0.5633460292386493\n",
      "200 0.5466719878103016\n",
      "210 0.5304914683793133\n",
      "220 0.5147898635715258\n",
      "230 0.49955299836509925\n",
      "240 0.4847671172936517\n",
      "250 0.47041887202816357\n",
      "260 0.45649530932643506\n",
      "270 0.44298385933921797\n",
      "280 0.42987232426246613\n",
      "290 0.41714886732545814\n",
      "300 0.4048020021048524\n",
      "310 0.3928205821550279\n",
      "320 0.38119379094534706\n",
      "330 0.3699111320952587\n",
      "340 0.3589624198984244\n",
      "350 0.34833777012731426\n",
      "360 0.33802759110996905\n",
      "370 0.3280225750708758\n",
      "380 0.3183136897281373\n",
      "390 0.3088921701393506\n",
      "400 0.2997495107888329\n",
      "410 0.29087745790905184\n",
      "420 0.28226800202932767\n",
      "430 0.27391337074507993\n",
      "440 0.26580602170109296\n",
      "450 0.25793863578246295\n",
      "460 0.25030411050708157\n",
      "470 0.24289555361369\n",
      "480 0.23570627683971565\n",
      "490 0.2287297898832734\n",
      "500 0.22195979454388087\n",
      "510 0.21539017903659852\n",
      "520 0.20901501247446055\n",
      "530 0.2028285395142165\n",
      "540 0.19682517516054926\n",
      "550 0.1909994997240788\n",
      "560 0.18534625392860016\n",
      "570 0.1798603341631387\n",
      "580 0.1745367878745358\n",
      "590 0.1693708090964057\n",
      "600 0.16435773411042787\n",
      "610 0.15949303723605676\n",
      "620 0.15477232674484923\n",
      "630 0.15019134089572003\n",
      "640 0.1457459440875472\n",
      "650 0.14143212312565326\n",
      "660 0.13724598359879192\n",
      "670 0.13318374636336955\n",
      "680 0.12924174413172762\n",
      "690 0.12541641816140575\n",
      "700 0.12170431504239655\n",
      "710 0.11810208357949242\n",
      "720 0.11460647176690894\n",
      "730 0.11121432385245428\n",
      "740 0.10792257748859395\n",
      "750 0.10472826096783873\n",
      "760 0.10162849053996058\n",
      "770 0.09862046780861393\n",
      "780 0.0957014772050124\n",
      "790 0.09286888353638029\n",
      "800 0.09012012960696544\n",
      "810 0.08745273390946595\n",
      "820 0.08486428838478655\n",
      "830 0.0823524562481022\n",
      "840 0.07991496987926629\n",
      "850 0.07754962877565917\n",
      "860 0.07525429756562853\n",
      "870 0.07302690408072847\n",
      "880 0.07086543748501699\n",
      "890 0.06876794645972288\n",
      "900 0.06673253744164305\n",
      "910 0.06475737291368056\n",
      "920 0.06284066974597925\n",
      "930 0.0609806975861583\n",
      "940 0.05917577729719254\n",
      "950 0.05742427944152901\n",
      "960 0.0557246228100709\n",
      "970 0.05407527299470094\n",
      "980 0.052474741003055554\n",
      "990 0.05092158191429929\n",
      "0.04956308282315532\n"
     ]
    }
   ],
   "source": [
    "eps_decay = 0.997\n",
    "min_eps = 0.01\n",
    "eps = 1.0\n",
    "for i in range(1000):\n",
    "  eps = max(min_eps, eps * eps_decay)\n",
    "  if (i % 10==0):\n",
    "    print (i, eps)\n",
    "\n",
    "print(eps)"
   ]
  },
  {
   "cell_type": "markdown",
   "metadata": {
    "id": "o3iVpRrR5AK9"
   },
   "source": [
    "# Test Learned Models"
   ]
  },
  {
   "cell_type": "code",
   "execution_count": 24,
   "metadata": {
    "colab": {
     "base_uri": "https://localhost:8080/"
    },
    "id": "9rrki-w45Wsu",
    "outputId": "88be8bdf-6d35-4d53-80bd-7722cfd12d32"
   },
   "outputs": [
    {
     "name": "stdout",
     "output_type": "stream",
     "text": [
      "Requirement already satisfied: gdown in c:\\users\\maxjo\\appdata\\local\\programs\\python\\python39\\lib\\site-packages (5.2.0)\n",
      "Requirement already satisfied: beautifulsoup4 in c:\\users\\maxjo\\appdata\\local\\programs\\python\\python39\\lib\\site-packages (from gdown) (4.12.3)\n",
      "Requirement already satisfied: filelock in c:\\users\\maxjo\\appdata\\local\\programs\\python\\python39\\lib\\site-packages (from gdown) (3.16.1)\n",
      "Requirement already satisfied: requests[socks] in c:\\users\\maxjo\\appdata\\local\\programs\\python\\python39\\lib\\site-packages (from gdown) (2.32.3)\n",
      "Requirement already satisfied: tqdm in c:\\users\\maxjo\\appdata\\local\\programs\\python\\python39\\lib\\site-packages (from gdown) (4.66.4)\n",
      "Requirement already satisfied: soupsieve>1.2 in c:\\users\\maxjo\\appdata\\local\\programs\\python\\python39\\lib\\site-packages (from beautifulsoup4->gdown) (2.6)\n",
      "Requirement already satisfied: charset-normalizer<4,>=2 in c:\\users\\maxjo\\appdata\\local\\programs\\python\\python39\\lib\\site-packages (from requests[socks]->gdown) (3.3.2)\n",
      "Requirement already satisfied: idna<4,>=2.5 in c:\\users\\maxjo\\appdata\\local\\programs\\python\\python39\\lib\\site-packages (from requests[socks]->gdown) (3.7)\n",
      "Requirement already satisfied: urllib3<3,>=1.21.1 in c:\\users\\maxjo\\appdata\\local\\programs\\python\\python39\\lib\\site-packages (from requests[socks]->gdown) (2.2.2)\n",
      "Requirement already satisfied: certifi>=2017.4.17 in c:\\users\\maxjo\\appdata\\local\\programs\\python\\python39\\lib\\site-packages (from requests[socks]->gdown) (2024.7.4)\n",
      "Requirement already satisfied: PySocks!=1.5.7,>=1.5.6 in c:\\users\\maxjo\\appdata\\local\\programs\\python\\python39\\lib\\site-packages (from requests[socks]->gdown) (1.7.1)\n",
      "Requirement already satisfied: colorama in c:\\users\\maxjo\\appdata\\local\\programs\\python\\python39\\lib\\site-packages (from tqdm->gdown) (0.4.6)\n"
     ]
    },
    {
     "name": "stderr",
     "output_type": "stream",
     "text": [
      "\n",
      "[notice] A new release of pip is available: 24.1.1 -> 24.2\n",
      "[notice] To update, run: python.exe -m pip install --upgrade pip\n"
     ]
    },
    {
     "name": "stdout",
     "output_type": "stream",
     "text": [
      "my_QmodelB_999iterations.keras\n"
     ]
    },
    {
     "name": "stderr",
     "output_type": "stream",
     "text": [
      "c:\\users\\maxjo\\appdata\\local\\programs\\python\\python39\\lib\\site-packages\\gdown\\download.py:33: MarkupResemblesLocatorWarning: The input looks more like a filename than markup. You may want to open this file and pass the filehandle into Beautiful Soup.\n",
      "  soup = bs4.BeautifulSoup(line, features=\"html.parser\")\n",
      "Failed to retrieve file url:\n",
      "\n",
      "\tCannot retrieve the public link of the file. You may need to change\n",
      "\tthe permission to 'Anyone with the link', or have had many accesses.\n",
      "\tCheck FAQ in https://github.com/wkentaro/gdown?tab=readme-ov-file#faq.\n",
      "\n",
      "You may still be able to access the file from the browser:\n",
      "\n",
      "\thttps://drive.google.com/uc?id=1-iNHaTgKMTU7Fdoc-7IdRZCaGOFTQmIY\n",
      "\n",
      "but Gdown can't. Please check connections and permissions.\n"
     ]
    }
   ],
   "source": [
    "## Choose Model\n",
    "version = 1\n",
    "models = [(100, '1-3b0WuYzzscYMvJEvmdGK_GTsVvd2T_9'), (999, '1-iNHaTgKMTU7Fdoc-7IdRZCaGOFTQmIY')]\n",
    "\n",
    "!pip install gdown\n",
    "!gdown {models[version][1]}\n",
    "save_path=f'my_QmodelB_{models[version][0]}iterations.keras'\n",
    "print(save_path)"
   ]
  },
  {
   "cell_type": "code",
   "execution_count": 25,
   "metadata": {
    "id": "uovqNleA7SB4"
   },
   "outputs": [],
   "source": [
    "import matplotlib.pyplot as plt\n",
    "import gymnasium as gym\n",
    "import tensorflow as tf\n",
    "\n",
    "from tensorflow.keras.models import load_model\n",
    "\n",
    "model = load_model(save_path, compile=False)\n",
    "model.compile(\n",
    "    loss=tf.keras.losses.MeanSquaredError(),\n",
    "    optimizer=tf.keras.optimizers.Adam(learning_rate=0.01),\n",
    ")"
   ]
  },
  {
   "cell_type": "code",
   "execution_count": 26,
   "metadata": {
    "colab": {
     "base_uri": "https://localhost:8080/",
     "height": 792
    },
    "id": "_vnZPrO0W4c3",
    "outputId": "8d2c2c3d-75d9-4299-88fd-17a00287712d"
   },
   "outputs": [
    {
     "data": {
      "image/png": "[encoded data removed]",
      "text/plain": [
       "<Figure size 640x480 with 1 Axes>"
      ]
     },
     "metadata": {},
     "output_type": "display_data"
    },
    {
     "name": "stdout",
     "output_type": "stream",
     "text": [
      "action=0, total_reward=1.0\n"
     ]
    },
    {
     "data": {
      "image/png": "[encoded data removed]",
      "text/plain": [
       "<Figure size 640x480 with 1 Axes>"
      ]
     },
     "metadata": {},
     "output_type": "display_data"
    }
   ],
   "source": [
    "env = gym.make(\"CartPole-v1\", render_mode=\"rgb_array\")\n",
    "state, _ = env.reset()\n",
    "done = False\n",
    "total_reward = 0\n",
    "state_image=env.render()\n",
    "plt.imshow(state_image)\n",
    "plt.show()\n",
    "\n",
    "state_image=env.render()\n",
    "action = model.predict(state[np.newaxis, :], verbose=False).argmax(axis=1)[0]\n",
    "state, reward, done, _, _ = env.step(action)\n",
    "total_reward += reward\n",
    "print (f\"{action=}, {total_reward=}\")\n",
    "state_image=env.render()\n",
    "plt.imshow(state_image)\n",
    "plt.show()"
   ]
  },
  {
   "cell_type": "code",
   "execution_count": 27,
   "metadata": {
    "colab": {
     "base_uri": "https://localhost:8080/"
    },
    "id": "dBZ3Dkjf67DV",
    "outputId": "51d3f241-0de1-4afd-ffcb-9d4d1c81b7c1"
   },
   "outputs": [
    {
     "name": "stdout",
     "output_type": "stream",
     "text": [
      "total_reward=90.0\n"
     ]
    }
   ],
   "source": [
    "env = gym.make(\"CartPole-v1\", render_mode=\"human\")\n",
    "\n",
    "state, _ = env.reset()\n",
    "done = False\n",
    "total_reward = 0\n",
    "\n",
    "while not done and total_reward < 500:  # force end the game after 500 time steps because the model is too good!\n",
    "    env.render()\n",
    "    action = model.predict(state[np.newaxis, :], verbose=False).argmax(axis=1)[0]\n",
    "    state, reward, done, _, _ = env.step(action)\n",
    "    total_reward += reward\n",
    "\n",
    "env.close()\n",
    "print (f\"{total_reward=}\")"
   ]
  },
  {
   "cell_type": "code",
   "execution_count": 28,
   "metadata": {
    "id": "-zerAhDxXOC6"
   },
   "outputs": [],
   "source": [
    "env.close()"
   ]
  },
  {
   "cell_type": "code",
   "execution_count": null,
   "metadata": {},
   "outputs": [],
   "source": []
  },
  {
   "cell_type": "markdown",
   "metadata": {},
   "source": [
    "I tried a range of faster epsilons decay that eventually get to 0.97. It worked about the same as the original. Also went off screen. No noticble change. There was one run where it started to turn the stick around, but then it overshot. Still going offscreen but not dropping the stick."
   ]
  }
 ],
 "metadata": {
  "accelerator": "TPU",
  "colab": {
   "gpuType": "V28",
   "machine_shape": "hm",
   "provenance": []
  },
  "kernelspec": {
   "display_name": "Python 3 (ipykernel)",
   "language": "python",
   "name": "python3"
  },
  "language_info": {
   "codemirror_mode": {
    "name": "ipython",
    "version": 3
   },
   "file_extension": ".py",
   "mimetype": "text/x-python",
   "name": "python",
   "nbconvert_exporter": "python",
   "pygments_lexer": "ipython3",
   "version": "3.9.1"
  },
  "widgets": {
   "application/vnd.jupyter.widget-state+json": {
    "2c143b45389744468b88b85f25dbc5ed": {
     "model_module": "@jupyter-widgets/base",
     "model_module_version": "1.2.0",
     "model_name": "LayoutModel",
     "state": {
      "_model_module": "@jupyter-widgets/base",
      "_model_module_version": "1.2.0",
      "_model_name": "LayoutModel",
      "_view_count": null,
      "_view_module": "@jupyter-widgets/base",
      "_view_module_version": "1.2.0",
      "_view_name": "LayoutView",
      "align_content": null,
      "align_items": null,
      "align_self": null,
      "border": null,
      "bottom": null,
      "display": null,
      "flex": null,
      "flex_flow": null,
      "grid_area": null,
      "grid_auto_columns": null,
      "grid_auto_flow": null,
      "grid_auto_rows": null,
      "grid_column": null,
      "grid_gap": null,
      "grid_row": null,
      "grid_template_areas": null,
      "grid_template_columns": null,
      "grid_template_rows": null,
      "height": null,
      "justify_content": null,
      "justify_items": null,
      "left": null,
      "margin": null,
      "max_height": null,
      "max_width": null,
      "min_height": null,
      "min_width": null,
      "object_fit": null,
      "object_position": null,
      "order": null,
      "overflow": null,
      "overflow_x": null,
      "overflow_y": null,
      "padding": null,
      "right": null,
      "top": null,
      "visibility": null,
      "width": null
     }
    },
    "3a067fc34c0946e7a985334c0a944e21": {
     "model_module": "@jupyter-widgets/controls",
     "model_module_version": "1.5.0",
     "model_name": "HBoxModel",
     "state": {
      "_dom_classes": [],
      "_model_module": "@jupyter-widgets/controls",
      "_model_module_version": "1.5.0",
      "_model_name": "HBoxModel",
      "_view_count": null,
      "_view_module": "@jupyter-widgets/controls",
      "_view_module_version": "1.5.0",
      "_view_name": "HBoxView",
      "box_style": "",
      "children": [
       "IPY_MODEL_4d6612b0aa0d477481d1db33d6dcc8ce",
       "IPY_MODEL_3cf0bef9fc374852a667faf4147a37ba",
       "IPY_MODEL_984d3c4cc7ed4e9b84a5a944cb07ace1"
      ],
      "layout": "IPY_MODEL_47a2df39f5e1449bb0305040c6f5f5f3"
     }
    },
    "3cf0bef9fc374852a667faf4147a37ba": {
     "model_module": "@jupyter-widgets/controls",
     "model_module_version": "1.5.0",
     "model_name": "FloatProgressModel",
     "state": {
      "_dom_classes": [],
      "_model_module": "@jupyter-widgets/controls",
      "_model_module_version": "1.5.0",
      "_model_name": "FloatProgressModel",
      "_view_count": null,
      "_view_module": "@jupyter-widgets/controls",
      "_view_module_version": "1.5.0",
      "_view_name": "ProgressView",
      "bar_style": "",
      "description": "",
      "description_tooltip": null,
      "layout": "IPY_MODEL_2c143b45389744468b88b85f25dbc5ed",
      "max": 1000,
      "min": 0,
      "orientation": "horizontal",
      "style": "IPY_MODEL_d09f29e5a5d64a7fbf965d6330fdda5e",
      "value": 77
     }
    },
    "47a2df39f5e1449bb0305040c6f5f5f3": {
     "model_module": "@jupyter-widgets/base",
     "model_module_version": "1.2.0",
     "model_name": "LayoutModel",
     "state": {
      "_model_module": "@jupyter-widgets/base",
      "_model_module_version": "1.2.0",
      "_model_name": "LayoutModel",
      "_view_count": null,
      "_view_module": "@jupyter-widgets/base",
      "_view_module_version": "1.2.0",
      "_view_name": "LayoutView",
      "align_content": null,
      "align_items": null,
      "align_self": null,
      "border": null,
      "bottom": null,
      "display": null,
      "flex": null,
      "flex_flow": null,
      "grid_area": null,
      "grid_auto_columns": null,
      "grid_auto_flow": null,
      "grid_auto_rows": null,
      "grid_column": null,
      "grid_gap": null,
      "grid_row": null,
      "grid_template_areas": null,
      "grid_template_columns": null,
      "grid_template_rows": null,
      "height": null,
      "justify_content": null,
      "justify_items": null,
      "left": null,
      "margin": null,
      "max_height": null,
      "max_width": null,
      "min_height": null,
      "min_width": null,
      "object_fit": null,
      "object_position": null,
      "order": null,
      "overflow": null,
      "overflow_x": null,
      "overflow_y": null,
      "padding": null,
      "right": null,
      "top": null,
      "visibility": null,
      "width": null
     }
    },
    "4d6612b0aa0d477481d1db33d6dcc8ce": {
     "model_module": "@jupyter-widgets/controls",
     "model_module_version": "1.5.0",
     "model_name": "HTMLModel",
     "state": {
      "_dom_classes": [],
      "_model_module": "@jupyter-widgets/controls",
      "_model_module_version": "1.5.0",
      "_model_name": "HTMLModel",
      "_view_count": null,
      "_view_module": "@jupyter-widgets/controls",
      "_view_module_version": "1.5.0",
      "_view_name": "HTMLView",
      "description": "",
      "description_tooltip": null,
      "layout": "IPY_MODEL_b66b1dc5f07f49768032a3d40b831d12",
      "placeholder": "​",
      "style": "IPY_MODEL_d3ceb98f06e3495c95b5d614f7838bcf",
      "value": "  8%"
     }
    },
    "8e6205f3c3834a63b83c5d6222d09c70": {
     "model_module": "@jupyter-widgets/controls",
     "model_module_version": "1.5.0",
     "model_name": "DescriptionStyleModel",
     "state": {
      "_model_module": "@jupyter-widgets/controls",
      "_model_module_version": "1.5.0",
      "_model_name": "DescriptionStyleModel",
      "_view_count": null,
      "_view_module": "@jupyter-widgets/base",
      "_view_module_version": "1.2.0",
      "_view_name": "StyleView",
      "description_width": ""
     }
    },
    "984d3c4cc7ed4e9b84a5a944cb07ace1": {
     "model_module": "@jupyter-widgets/controls",
     "model_module_version": "1.5.0",
     "model_name": "HTMLModel",
     "state": {
      "_dom_classes": [],
      "_model_module": "@jupyter-widgets/controls",
      "_model_module_version": "1.5.0",
      "_model_name": "HTMLModel",
      "_view_count": null,
      "_view_module": "@jupyter-widgets/controls",
      "_view_module_version": "1.5.0",
      "_view_name": "HTMLView",
      "description": "",
      "description_tooltip": null,
      "layout": "IPY_MODEL_a45f4eac93954ebfa5cd356cb36d5f9e",
      "placeholder": "​",
      "style": "IPY_MODEL_8e6205f3c3834a63b83c5d6222d09c70",
      "value": " 77/1000 [07:35&lt;1:43:24,  6.72s/it]"
     }
    },
    "a45f4eac93954ebfa5cd356cb36d5f9e": {
     "model_module": "@jupyter-widgets/base",
     "model_module_version": "1.2.0",
     "model_name": "LayoutModel",
     "state": {
      "_model_module": "@jupyter-widgets/base",
      "_model_module_version": "1.2.0",
      "_model_name": "LayoutModel",
      "_view_count": null,
      "_view_module": "@jupyter-widgets/base",
      "_view_module_version": "1.2.0",
      "_view_name": "LayoutView",
      "align_content": null,
      "align_items": null,
      "align_self": null,
      "border": null,
      "bottom": null,
      "display": null,
      "flex": null,
      "flex_flow": null,
      "grid_area": null,
      "grid_auto_columns": null,
      "grid_auto_flow": null,
      "grid_auto_rows": null,
      "grid_column": null,
      "grid_gap": null,
      "grid_row": null,
      "grid_template_areas": null,
      "grid_template_columns": null,
      "grid_template_rows": null,
      "height": null,
      "justify_content": null,
      "justify_items": null,
      "left": null,
      "margin": null,
      "max_height": null,
      "max_width": null,
      "min_height": null,
      "min_width": null,
      "object_fit": null,
      "object_position": null,
      "order": null,
      "overflow": null,
      "overflow_x": null,
      "overflow_y": null,
      "padding": null,
      "right": null,
      "top": null,
      "visibility": null,
      "width": null
     }
    },
    "b66b1dc5f07f49768032a3d40b831d12": {
     "model_module": "@jupyter-widgets/base",
     "model_module_version": "1.2.0",
     "model_name": "LayoutModel",
     "state": {
      "_model_module": "@jupyter-widgets/base",
      "_model_module_version": "1.2.0",
      "_model_name": "LayoutModel",
      "_view_count": null,
      "_view_module": "@jupyter-widgets/base",
      "_view_module_version": "1.2.0",
      "_view_name": "LayoutView",
      "align_content": null,
      "align_items": null,
      "align_self": null,
      "border": null,
      "bottom": null,
      "display": null,
      "flex": null,
      "flex_flow": null,
      "grid_area": null,
      "grid_auto_columns": null,
      "grid_auto_flow": null,
      "grid_auto_rows": null,
      "grid_column": null,
      "grid_gap": null,
      "grid_row": null,
      "grid_template_areas": null,
      "grid_template_columns": null,
      "grid_template_rows": null,
      "height": null,
      "justify_content": null,
      "justify_items": null,
      "left": null,
      "margin": null,
      "max_height": null,
      "max_width": null,
      "min_height": null,
      "min_width": null,
      "object_fit": null,
      "object_position": null,
      "order": null,
      "overflow": null,
      "overflow_x": null,
      "overflow_y": null,
      "padding": null,
      "right": null,
      "top": null,
      "visibility": null,
      "width": null
     }
    },
    "d09f29e5a5d64a7fbf965d6330fdda5e": {
     "model_module": "@jupyter-widgets/controls",
     "model_module_version": "1.5.0",
     "model_name": "ProgressStyleModel",
     "state": {
      "_model_module": "@jupyter-widgets/controls",
      "_model_module_version": "1.5.0",
      "_model_name": "ProgressStyleModel",
      "_view_count": null,
      "_view_module": "@jupyter-widgets/base",
      "_view_module_version": "1.2.0",
      "_view_name": "StyleView",
      "bar_color": null,
      "description_width": ""
     }
    },
    "d3ceb98f06e3495c95b5d614f7838bcf": {
     "model_module": "@jupyter-widgets/controls",
     "model_module_version": "1.5.0",
     "model_name": "DescriptionStyleModel",
     "state": {
      "_model_module": "@jupyter-widgets/controls",
      "_model_module_version": "1.5.0",
      "_model_name": "DescriptionStyleModel",
      "_view_count": null,
      "_view_module": "@jupyter-widgets/base",
      "_view_module_version": "1.2.0",
      "_view_name": "StyleView",
      "description_width": ""
     }
    }
   }
  }
 },
 "nbformat": 4,
 "nbformat_minor": 4
}
